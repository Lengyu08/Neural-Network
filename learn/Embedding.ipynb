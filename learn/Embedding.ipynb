{
 "cells": [
  {
   "cell_type": "code",
   "execution_count": 21,
   "metadata": {},
   "outputs": [
    {
     "name": "stdout",
     "output_type": "stream",
     "text": [
      "构建的词汇表大小： 17\n",
      "{'plot', 'loved', 'film', 'a', 'I', 'disaster.', 'seen.', 'fantastic!', 'was', 'movie', 'worst', \"I've\", 'ever', 'The', 'and', 'acting.', 'the'}\n"
     ]
    }
   ],
   "source": [
    "# 假设我们有以下电影评论\n",
    "reviews = [\n",
    "    \"The movie was fantastic!\",\n",
    "    \"I loved the plot and the acting.\",\n",
    "    \"The film was a disaster.\",\n",
    "    \"The worst movie I've ever seen.\"\n",
    "]\n",
    "\n",
    "# 分词\n",
    "tokenized_reviews = [review.split() for review in reviews]\n",
    "\n",
    "# 构建词汇表\n",
    "vocab = set(word for sentence in tokenized_reviews for word in sentence)\n",
    "vocab_size = len(vocab)\n",
    "print(\"构建的词汇表大小：\", vocab_size)\n",
    "print(vocab)"
   ]
  },
  {
   "cell_type": "code",
   "execution_count": 22,
   "metadata": {},
   "outputs": [],
   "source": [
    "import torch\n",
    "import torch.nn as nn\n",
    "\n",
    "embedding_dim = 5\n",
    "\n",
    "# 创建嵌入层\n",
    "embedding = nn.Embedding(num_embeddings=vocab_size, embedding_dim=embedding_dim)"
   ]
  },
  {
   "cell_type": "code",
   "execution_count": 23,
   "metadata": {},
   "outputs": [
    {
     "name": "stdout",
     "output_type": "stream",
     "text": [
      "把词汇表中的单词映射到索引 :\n",
      "{'plot': 0, 'loved': 1, 'film': 2, 'a': 3, 'I': 4, 'disaster.': 5, 'seen.': 6, 'fantastic!': 7, 'was': 8, 'movie': 9, 'worst': 10, \"I've\": 11, 'ever': 12, 'The': 13, 'and': 14, 'acting.': 15, 'the': 16}\n",
      "转化评论为向量组 :\n",
      "评论 :  The movie was fantastic!\n",
      "索引序列 :  [13, 9, 8, 7]\n",
      "转化序列为张量 :  torch.Size([4])\n",
      "嵌入向量 :  tensor([[-1.2346,  1.1077, -0.4591, -1.4099, -0.0587],\n",
      "        [-0.5881,  0.1115, -0.0706,  1.9341, -1.1581],\n",
      "        [-1.0547,  2.1699,  1.5870, -0.8900, -0.4487],\n",
      "        [-0.3993, -1.9752,  0.1455,  0.8750, -0.1282]],\n",
      "       grad_fn=<EmbeddingBackward0>)\n"
     ]
    }
   ],
   "source": [
    "# 将词汇表中的单词映射到索引 ( 哈希表 )\n",
    "word_to_idx = {word: idx for idx, word in enumerate(vocab)}\n",
    "print(\"把词汇表中的单词映射到索引 :\")\n",
    "print(word_to_idx)\n",
    "\n",
    "# 将一个评论转换为索引序列\n",
    "def text_to_indices(text):\n",
    "    return [word_to_idx[word] for word in text.split()]\n",
    "\n",
    "# 将索引序列转换为嵌入向量\n",
    "def get_embedding(text):\n",
    "    indices = text_to_indices(text)\n",
    "    print(\"转化评论为向量组 :\")\n",
    "    print(\"评论 : \", text)\n",
    "    print(\"索引序列 : \", indices)\n",
    "\n",
    "    indices_tensor = torch.tensor(indices, dtype=torch.long)\n",
    "    print(\"转化序列为张量 : \", indices_tensor.shape)\n",
    "\n",
    "    # 获取到了代表关联程度的嵌入向量\n",
    "    embedding_vector = embedding(indices_tensor)\n",
    "\n",
    "    return embedding_vector\n",
    "\n",
    "# 测试一个评论\n",
    "test_review = \"The movie was fantastic!\"\n",
    "embedding_vector = get_embedding(test_review)\n",
    "# 4 个单词，每个单词对应一个 5 维的嵌入向量\n",
    "print(\"嵌入向量 : \", embedding_vector)"
   ]
  }
 ],
 "metadata": {
  "kernelspec": {
   "display_name": "py38",
   "language": "python",
   "name": "python3"
  },
  "language_info": {
   "codemirror_mode": {
    "name": "ipython",
    "version": 3
   },
   "file_extension": ".py",
   "mimetype": "text/x-python",
   "name": "python",
   "nbconvert_exporter": "python",
   "pygments_lexer": "ipython3",
   "version": "3.8.20"
  }
 },
 "nbformat": 4,
 "nbformat_minor": 2
}
