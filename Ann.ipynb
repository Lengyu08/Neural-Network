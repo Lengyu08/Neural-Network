{
 "cells": [
  {
   "cell_type": "code",
   "execution_count": 32,
   "metadata": {},
   "outputs": [],
   "source": [
    "import copy\n",
    "import math\n",
    "import time\n",
    "import pickle\n",
    "import struct\n",
    "\n",
    "import numpy as np                  # 矩阵\n",
    "import matplotlib.pyplot as plt     # 绘图\n",
    "\n",
    "from numba import njit              # 加速 cpu\n",
    "from numba import cuda              # 加速 gpu(cuda)\n",
    "from pathlib import Path            # 处理路径\n",
    "\n",
    "from Activation import Activation\n",
    "from ProgressBar import ProgressBar "
   ]
  },
  {
   "cell_type": "code",
   "execution_count": 33,
   "metadata": {},
   "outputs": [],
   "source": [
    "def bypass(x):\n",
    "    return x\n",
    "def tanh(x):\n",
    "    return np.tanh(x)\n",
    "def softmax(x):\n",
    "    exp=np.exp(x - x.max())\n",
    "    return exp / exp.sum()\n",
    "\n",
    "def d_softmax(data):\n",
    "    sm = softmax(data)\n",
    "    return np.diag(sm) - np.outer(sm,sm)\n",
    "\n",
    "def d_tanh(data):\n",
    "    return 1 / ((np.cosh(data)) ** 2)\n",
    "\n",
    "def d_bypass(x):\n",
    "    return 1\n",
    "\n",
    "differential = {softmax:d_softmax, tanh:d_tanh, bypass:d_bypass}\n",
    "d_type = {bypass:'times', softmax:'dot', tanh:'times'} # tanh 和 bypass都进行了优化而 softmax没有优化"
   ]
  },
  {
   "cell_type": "code",
   "execution_count": 34,
   "metadata": {},
   "outputs": [],
   "source": [
    "dimensions = [28*28, 100, 10]\n",
    "activation = [bypass, tanh, softmax]\n",
    "distribution = [\n",
    "    {}, # leave it empty !\n",
    "    {'b':[0, 0],'w':[-math.sqrt(6 / (dimensions[0] + dimensions[1])), math.sqrt(6 / (dimensions[0] + dimensions[1]))]},\n",
    "    {'b':[0, 0],'w':[-math.sqrt(6 / (dimensions[1] + dimensions[2])), math.sqrt(6 / (dimensions[1] + dimensions[2]))]},\n",
    "]"
   ]
  },
  {
   "cell_type": "code",
   "execution_count": 35,
   "metadata": {},
   "outputs": [],
   "source": [
    "def init_parameters_b(layer):\n",
    "    dist=distribution[layer]['b']\n",
    "    return np.random.rand(dimensions[layer])*(dist[1]-dist[0])+dist[0]\n",
    "def init_parameters_w(layer):\n",
    "    dist=distribution[layer]['w']\n",
    "    return np.random.rand(dimensions[layer-1],dimensions[layer])*(dist[1]-dist[0])+dist[0]\n",
    "def init_parameters():\n",
    "    parameter = []\n",
    "    for i in range(len(distribution)):\n",
    "        layer_parameter = {}\n",
    "        for j in distribution[i].keys():\n",
    "            if j == 'b':\n",
    "                layer_parameter['b'] = init_parameters_b(i)\n",
    "                continue\n",
    "            if j == 'w':\n",
    "                layer_parameter['w'] = init_parameters_w(i)\n",
    "                continue\n",
    "        parameter.append(layer_parameter)\n",
    "    return parameter"
   ]
  },
  {
   "cell_type": "code",
   "execution_count": 36,
   "metadata": {},
   "outputs": [],
   "source": [
    "def predict(img,parameters):\n",
    "    l_in = img\n",
    "    l_out = activation[0](l_in)\n",
    "    for layer in range(1, len(dimensions)):\n",
    "        l_in = np.dot(l_out,parameters[layer]['w']) + parameters[layer]['b']\n",
    "        l_out = activation[layer](l_in)\n",
    "    return l_out\n"
   ]
  },
  {
   "cell_type": "code",
   "execution_count": 37,
   "metadata": {},
   "outputs": [],
   "source": [
    "dataset_path = Path('./MNIST')\n",
    "train_img_path = dataset_path / 'train-images.idx3-ubyte'\n",
    "train_lab_path = dataset_path / 'train-labels.idx1-ubyte'\n",
    "test_img_path = dataset_path / 't10k-images.idx3-ubyte'\n",
    "test_lab_path = dataset_path / 't10k-labels.idx1-ubyte'\n",
    "train_num=50000\n",
    "valid_num=10000\n",
    "test_num=10000\n",
    "\n",
    "with open(train_img_path,'rb') as f:\n",
    "    struct.unpack('>4i',f.read(16))\n",
    "    tmp_img=np.fromfile(f,dtype=np.uint8).reshape(-1,28*28)/255\n",
    "    train_img=tmp_img[:train_num]\n",
    "    valid_img=tmp_img[train_num:]\n",
    "    \n",
    "with open(test_img_path,'rb') as f:\n",
    "    struct.unpack('>4i',f.read(16))\n",
    "    test_img=np.fromfile(f,dtype=np.uint8).reshape(-1,28*28)/255\n",
    "\n",
    "with open(train_lab_path,'rb') as f:\n",
    "    struct.unpack('>2i',f.read(8))\n",
    "    tmp_lab=np.fromfile(f,dtype=np.uint8)\n",
    "    train_lab=tmp_lab[:train_num]\n",
    "    valid_lab=tmp_lab[train_num:]\n",
    "    \n",
    "with open(test_lab_path,'rb') as f:\n",
    "    struct.unpack('>2i',f.read(8))\n",
    "    test_lab=np.fromfile(f,dtype=np.uint8)"
   ]
  },
  {
   "cell_type": "code",
   "execution_count": 38,
   "metadata": {},
   "outputs": [],
   "source": [
    "def show_train(index):\n",
    "    plt.imshow(train_img[index].reshape(28,28),cmap='gray')\n",
    "    print('label : {}'.format(train_lab[index]))\n",
    "def show_valid(index):\n",
    "    plt.imshow(valid_img[index].reshape(28,28),cmap='gray')\n",
    "    print('label : {}'.format(valid_lab[index]))\n",
    "def show_test(index):\n",
    "    plt.imshow(test_img[index].reshape(28,28),cmap='gray')\n",
    "    print('label : {}'.format(test_lab[index]))"
   ]
  },
  {
   "cell_type": "code",
   "execution_count": 39,
   "metadata": {},
   "outputs": [
    {
     "name": "stdout",
     "output_type": "stream",
     "text": [
      "[-4.44642113e-05  1.31054825e-05  1.16053365e-05  1.97533922e-05]\n",
      "[ 1.99645700e-05 -4.80940363e-05  1.47914392e-05  1.33380272e-05]\n",
      "[ 1.19877075e-05  1.48912282e-05 -4.73123230e-05  2.04333872e-05]\n",
      "[ 1.58115703e-05  1.17123885e-05  1.57793249e-05 -4.33032837e-05]\n"
     ]
    }
   ],
   "source": [
    "h=0.001\n",
    "func=softmax\n",
    "input_len=4\n",
    "for i in range(input_len):\n",
    "    test_input=np.random.rand(input_len)\n",
    "    derivative=differential[func](test_input)\n",
    "    value1=func(test_input)\n",
    "    test_input[i]+=h\n",
    "    value2=func(test_input)\n",
    "#     print((value2-value1)/h)\n",
    "#     print(derivative[i])\n",
    "    print(derivative[i]-(value2-value1)/h)"
   ]
  },
  {
   "cell_type": "code",
   "execution_count": 40,
   "metadata": {},
   "outputs": [
    {
     "name": "stdout",
     "output_type": "stream",
     "text": [
      "3.799985560259955e-05\n",
      "1.0110819491426781e-05\n",
      "3.83452982636312e-05\n",
      "2.9673263405416428e-05\n"
     ]
    }
   ],
   "source": [
    "h=0.0001\n",
    "func=tanh\n",
    "input_len=4\n",
    "for i in range(input_len):\n",
    "    test_input=np.random.rand(input_len)\n",
    "    derivative=differential[func](test_input)\n",
    "    value1=func(test_input)\n",
    "    test_input[i]+=h\n",
    "    value2=func(test_input)\n",
    "#     print((value2-value1)/h)\n",
    "#     print(derivative[i])\n",
    "    print(derivative[i]-((value2-value1)/h)[i])"
   ]
  },
  {
   "cell_type": "code",
   "execution_count": 41,
   "metadata": {},
   "outputs": [
    {
     "name": "stdout",
     "output_type": "stream",
     "text": [
      "[[1. 0. 0. 0. 0. 0. 0. 0. 0. 0.]\n",
      " [0. 1. 0. 0. 0. 0. 0. 0. 0. 0.]\n",
      " [0. 0. 1. 0. 0. 0. 0. 0. 0. 0.]\n",
      " [0. 0. 0. 1. 0. 0. 0. 0. 0. 0.]\n",
      " [0. 0. 0. 0. 1. 0. 0. 0. 0. 0.]\n",
      " [0. 0. 0. 0. 0. 1. 0. 0. 0. 0.]\n",
      " [0. 0. 0. 0. 0. 0. 1. 0. 0. 0.]\n",
      " [0. 0. 0. 0. 0. 0. 0. 1. 0. 0.]\n",
      " [0. 0. 0. 0. 0. 0. 0. 0. 1. 0.]\n",
      " [0. 0. 0. 0. 0. 0. 0. 0. 0. 1.]]\n"
     ]
    }
   ],
   "source": [
    "onehot = np.identity(dimensions[-1])\n",
    "print(onehot)"
   ]
  },
  {
   "cell_type": "code",
   "execution_count": 42,
   "metadata": {},
   "outputs": [],
   "source": [
    "def sqr_loss(img, lab, parameters):\n",
    "    y_pred = predict(img, parameters)\n",
    "    y = onehot[lab]\n",
    "    diff = y - y_pred\n",
    "    return np.dot(diff, diff)"
   ]
  },
  {
   "attachments": {},
   "cell_type": "markdown",
   "metadata": {},
   "source": [
    "$\\frac{d}{dx}f_1(f_2(f_3(.....f_n())))=$"
   ]
  },
  {
   "cell_type": "code",
   "execution_count": 43,
   "metadata": {},
   "outputs": [],
   "source": [
    "# 计算梯度\n",
    "def grad_parameters(img, lab,parameters):\n",
    "    # 第一层\n",
    "    l_in_list = [img]\n",
    "    l_out_list = [activation[0](l_in_list[0])]\n",
    "    # 把网络上所有的输入输出存下俩\n",
    "    for layer in range(1, len(dimensions)):\n",
    "        l_in = np.dot(l_out_list[layer - 1], parameters[layer]['w']) + parameters[layer]['b']\n",
    "        l_out = activation[layer](l_in)\n",
    "        l_in_list.append(l_in)\n",
    "        l_out_list.append(l_out)\n",
    "    \n",
    "    d_layer = -2 * (onehot[lab] - l_out_list[-1])\n",
    "    \n",
    "    grad_result = [None] * len(dimensions)\n",
    "    for layer in range(len(dimensions)-1, 0, -1):\n",
    "        if d_type[activation[layer]] == 'times':\n",
    "            d_layer = differential[activation[layer]](l_in_list[layer]) * d_layer\n",
    "        if d_type[activation[layer]] == 'dot':\n",
    "            d_layer = np.dot(differential[activation[layer]](l_in_list[layer]), d_layer)\n",
    "        grad_result[layer] = {}\n",
    "        grad_result[layer]['b'] = d_layer\n",
    "        grad_result[layer]['w'] = np.outer(l_out_list[layer - 1], d_layer)\n",
    "        d_layer=np.dot(parameters[layer]['w'], d_layer)\n",
    "    \n",
    "    return grad_result"
   ]
  },
  {
   "cell_type": "code",
   "execution_count": 44,
   "metadata": {},
   "outputs": [],
   "source": [
    "parameters=init_parameters()"
   ]
  },
  {
   "cell_type": "code",
   "execution_count": 45,
   "metadata": {},
   "outputs": [
    {
     "data": {
      "text/plain": [
       "3.7686415523680017e-07"
      ]
     },
     "execution_count": 45,
     "metadata": {},
     "output_type": "execute_result"
    }
   ],
   "source": [
    "h=0.00001\n",
    "layer=2\n",
    "pname='b'\n",
    "grad_list=[]\n",
    "for i in range(len(parameters[layer][pname])):\n",
    "    img_i=np.random.randint(train_num)\n",
    "    test_parameters=init_parameters()\n",
    "    derivative=grad_parameters(train_img[img_i],train_lab[img_i],test_parameters)[layer][pname]\n",
    "    value1=sqr_loss(train_img[img_i],train_lab[img_i],test_parameters)\n",
    "    test_parameters[layer][pname][i]+=h\n",
    "    value2=sqr_loss(train_img[img_i],train_lab[img_i],test_parameters)\n",
    "    grad_list.append(derivative[i]-(value2-value1)/h)\n",
    "np.abs(grad_list).max()"
   ]
  },
  {
   "cell_type": "code",
   "execution_count": 46,
   "metadata": {},
   "outputs": [
    {
     "data": {
      "text/plain": [
       "2.661868855266536e-07"
      ]
     },
     "execution_count": 46,
     "metadata": {},
     "output_type": "execute_result"
    }
   ],
   "source": [
    "h=0.00001\n",
    "layer=1\n",
    "pname='b'\n",
    "grad_list=[]\n",
    "for i in range(len(parameters[layer][pname])):\n",
    "    img_i=np.random.randint(train_num)\n",
    "    test_parameters=init_parameters()\n",
    "    derivative=grad_parameters(train_img[img_i],train_lab[img_i],test_parameters)[layer][pname]\n",
    "    value1=sqr_loss(train_img[img_i],train_lab[img_i],test_parameters)\n",
    "    test_parameters[layer][pname][i]+=h\n",
    "    value2=sqr_loss(train_img[img_i],train_lab[img_i],test_parameters)\n",
    "    grad_list.append(derivative[i]-(value2-value1)/h)\n",
    "np.abs(grad_list).max()"
   ]
  },
  {
   "cell_type": "code",
   "execution_count": 47,
   "metadata": {},
   "outputs": [
    {
     "data": {
      "text/plain": [
       "4.260777898246193e-05"
      ]
     },
     "execution_count": 47,
     "metadata": {},
     "output_type": "execute_result"
    }
   ],
   "source": [
    "h=0.001\n",
    "layer=2\n",
    "pname='w'\n",
    "grad_list=[]\n",
    "for i in range(len(parameters[layer][pname])):\n",
    "    for j in range(len(parameters[layer][pname][0])):\n",
    "        img_i=np.random.randint(train_num)\n",
    "        test_parameters=init_parameters()\n",
    "        derivative=grad_parameters(train_img[img_i],train_lab[img_i],test_parameters)[layer][pname]\n",
    "        value1=sqr_loss(train_img[img_i],train_lab[img_i],test_parameters)\n",
    "        test_parameters[layer][pname][i][j]+=h\n",
    "        value2=sqr_loss(train_img[img_i],train_lab[img_i],test_parameters)\n",
    "        grad_list.append(derivative[i][j]-(value2-value1)/h)\n",
    "np.abs(grad_list).max()"
   ]
  },
  {
   "cell_type": "code",
   "execution_count": 48,
   "metadata": {},
   "outputs": [],
   "source": [
    "# h=0.00001\n",
    "# layer=1\n",
    "# pname='w'\n",
    "# grad_list=[]\n",
    "# for i in range(len(parameters[layer][pname])):\n",
    "#     for j in range(len(parameters[layer][pname][0])):\n",
    "#         img_i=np.random.randint(train_num)\n",
    "#         test_parameters=init_parameters()\n",
    "#         derivative=grad_parameters(train_img[img_i],train_lab[img_i],test_parameters)[layer][pname]\n",
    "#         value1=sqr_loss(train_img[img_i],train_lab[img_i],test_parameters)\n",
    "#         test_parameters[layer][pname][i][j]+=h\n",
    "#         value2=sqr_loss(train_img[img_i],train_lab[img_i],test_parameters)\n",
    "#         grad_list.append(derivative[i][j]-(value2-value1)/h)\n",
    "# np.abs(grad_list).max()"
   ]
  },
  {
   "cell_type": "code",
   "execution_count": 99,
   "metadata": {},
   "outputs": [],
   "source": [
    "def valid_loss(parameters):\n",
    "    loss_accu=0\n",
    "    for img_i in range(valid_num):\n",
    "        loss_accu+=sqr_loss(valid_img[img_i],valid_lab[img_i],parameters)\n",
    "    return loss_accu/(valid_num/10000)\n",
    "def valid_accuracy(parameters):\n",
    "    correct=[predict(valid_img[img_i],parameters).argmax()==valid_lab[img_i] for img_i in range(valid_num)]\n",
    "    return correct.count(True)/len(correct)\n",
    "def train_loss(parameters):\n",
    "    loss_accu=0\n",
    "    for img_i in range(train_num):\n",
    "        loss_accu+=sqr_loss(train_img[img_i],train_lab[img_i],parameters)\n",
    "    return loss_accu/(train_num/10000)\n",
    "def train_accuracy(parameters):\n",
    "    correct=[predict(train_img[img_i],parameters).argmax()==train_lab[img_i] for img_i in range(train_num)]\n",
    "    return correct.count(True)/len(correct)\n",
    "def test_accuracy(parameters):\n",
    "    correct=[predict(test_img[img_i],parameters).argmax()==test_lab[img_i] for img_i in range(test_num)]\n",
    "    return correct.count(True)/len(correct)"
   ]
  },
  {
   "cell_type": "code",
   "execution_count": 50,
   "metadata": {},
   "outputs": [],
   "source": [
    "def grad_add(grad1, grad2):\n",
    "    for layer in range(1, len(grad1)):\n",
    "        for pname in grad1[layer].keys():\n",
    "            grad1[layer][pname] += grad2[layer][pname]\n",
    "    return grad1\n",
    "def grad_divide(grad, denominator):\n",
    "    for layer in range(1, len(grad)):\n",
    "        for pname in grad[layer].keys():\n",
    "            grad[layer][pname] /= denominator\n",
    "    return grad\n",
    "\n",
    "def combine_parameters(parameters,grad,learn_rate):\n",
    "    parameter_tmp=copy.deepcopy(parameters)\n",
    "    for layer in range(1,len(parameter_tmp)):\n",
    "        for pname in parameter_tmp[layer].keys():\n",
    "            parameter_tmp[layer][pname]-=learn_rate*grad[layer][pname]\n",
    "    return parameter_tmp"
   ]
  },
  {
   "cell_type": "code",
   "execution_count": 51,
   "metadata": {},
   "outputs": [],
   "source": [
    "batch_size=100\n",
    "def train_batch(current_batch,parameters):\n",
    "    grad_accu=grad_parameters(train_img[current_batch*batch_size+0],train_lab[current_batch*batch_size+0],parameters)\n",
    "    for img_i in range(1,batch_size):\n",
    "        grad_tmp=grad_parameters(train_img[current_batch*batch_size+img_i],train_lab[current_batch*batch_size+img_i],parameters)\n",
    "        grad_add(grad_accu, grad_tmp)\n",
    "    grad_divide(grad_accu, batch_size)\n",
    "    return grad_accu"
   ]
  },
  {
   "cell_type": "code",
   "execution_count": 52,
   "metadata": {},
   "outputs": [],
   "source": [
    "parameters = init_parameters()\n",
    "current_epoch = 0\n",
    "train_loss_list = []\n",
    "valid_loss_list = []\n",
    "train_accu_list = []\n",
    "valid_accu_list = []"
   ]
  },
  {
   "cell_type": "code",
   "execution_count": 53,
   "metadata": {},
   "outputs": [
    {
     "name": "stdout",
     "output_type": "stream",
     "text": [
      "训练集的正确率: 0.09574\n",
      "验证集的正确率: 0.09210\n",
      "测试集的正确率: 0.08690\n"
     ]
    }
   ],
   "source": [
    "print(\"训练集的正确率: {:.5f}\".format(train_accuracy(parameters))) # 训练之后的正确率\n",
    "print(\"验证集的正确率: {:.5f}\".format(valid_accuracy(parameters))) # 训练之后的正确率\n",
    "print(\"测试集的正确率: {:.5f}\".format(test_accuracy(parameters)))  # 训练之后的正确率"
   ]
  },
  {
   "cell_type": "code",
   "execution_count": 55,
   "metadata": {},
   "outputs": [
    {
     "name": "stdout",
     "output_type": "stream",
     "text": [
      "[████████████████████████████████████████████████████████████] 100.0% \u001b[32mComplete\u001b[0m"
     ]
    }
   ],
   "source": [
    "learn_rate = 1 \n",
    "epoch_num = 1\n",
    "total_steps = train_num // batch_size * epoch_num\n",
    "progress_bar = ProgressBar(total_steps)\n",
    "for epoch in range(epoch_num):\n",
    "    for i in range(train_num//batch_size):\n",
    "        progress_bar.update(epoch * (train_num // batch_size) + i + 1)\n",
    "        grad_tmp = train_batch(i, parameters)\n",
    "        parameters = combine_parameters(parameters, grad_tmp, learn_rate)\n",
    "    current_epoch += 1\n",
    "    train_loss_list.append(train_loss(parameters))\n",
    "    train_accu_list.append(train_accuracy(parameters))\n",
    "    valid_loss_list.append(valid_loss(parameters))\n",
    "    valid_accu_list.append(valid_accuracy(parameters))"
   ]
  },
  {
   "cell_type": "code",
   "execution_count": 56,
   "metadata": {},
   "outputs": [
    {
     "name": "stdout",
     "output_type": "stream",
     "text": [
      "训练集的正确率: 0.93166\n",
      "验证集的正确率: 0.93650\n",
      "测试集的正确率: 0.93280\n"
     ]
    }
   ],
   "source": [
    "print(\"训练集的正确率: {:.5f}\".format(train_accuracy(parameters))) # 训练之后的正确率\n",
    "print(\"验证集的正确率: {:.5f}\".format(valid_accuracy(parameters))) # 训练之后的正确率\n",
    "print(\"测试集的正确率: {:.5f}\".format(test_accuracy(parameters)))  # 训练之后的正确率"
   ]
  },
  {
   "cell_type": "code",
   "execution_count": 58,
   "metadata": {},
   "outputs": [
    {
     "data": {
      "image/png": "[encoded data removed]",
      "text/plain": [
       "<Figure size 640x480 with 1 Axes>"
      ]
     },
     "metadata": {},
     "output_type": "display_data"
    }
   ],
   "source": [
    "lower = -5\n",
    "plt.plot(valid_loss_list[lower:], color='black', label='validation loss')\n",
    "plt.plot(train_loss_list[lower:], color='red', label='train loss')\n",
    "plt.show()"
   ]
  },
  {
   "cell_type": "code",
   "execution_count": 59,
   "metadata": {},
   "outputs": [
    {
     "data": {
      "image/png": "[encoded data removed]",
      "text/plain": [
       "<Figure size 640x480 with 1 Axes>"
      ]
     },
     "metadata": {},
     "output_type": "display_data"
    }
   ],
   "source": [
    "plt.plot(valid_accu_list[lower:], color='black', label='validation accuracy')\n",
    "plt.plot(train_accu_list[lower:], color='red', label='train accuracy')\n",
    "plt.show()"
   ]
  },
  {
   "cell_type": "code",
   "execution_count": 60,
   "metadata": {},
   "outputs": [
    {
     "name": "stdout",
     "output_type": "stream",
     "text": [
      "[                                                            ] 0.0% \u001b[31mProgress\u001b[0m"
     ]
    },
    {
     "ename": "KeyboardInterrupt",
     "evalue": "",
     "output_type": "error",
     "traceback": [
      "\u001b[1;31m---------------------------------------------------------------------------\u001b[0m",
      "\u001b[1;31mKeyboardInterrupt\u001b[0m                         Traceback (most recent call last)",
      "Cell \u001b[1;32mIn[60], line 12\u001b[0m\n\u001b[0;32m     10\u001b[0m     learn_rate \u001b[39m=\u001b[39m \u001b[39m10\u001b[39m \u001b[39m*\u001b[39m\u001b[39m*\u001b[39m lr_pow\n\u001b[0;32m     11\u001b[0m     parameters_tmp \u001b[39m=\u001b[39m combine_parameters(parameters, grad_lr, learn_rate)\n\u001b[1;32m---> 12\u001b[0m     train_loss_tmp \u001b[39m=\u001b[39m train_loss(parameters_tmp)\n\u001b[0;32m     13\u001b[0m     lr_list\u001b[39m.\u001b[39mappend([lr_pow, train_loss_tmp])\n\u001b[0;32m     14\u001b[0m progress_bar\u001b[39m.\u001b[39mupdate(\u001b[39mint\u001b[39m((upper \u001b[39m-\u001b[39m lower) \u001b[39m/\u001b[39m step \u001b[39m+\u001b[39m \u001b[39m1\u001b[39m))\n",
      "Cell \u001b[1;32mIn[49], line 12\u001b[0m, in \u001b[0;36mtrain_loss\u001b[1;34m(parameters)\u001b[0m\n\u001b[0;32m     10\u001b[0m loss_accu\u001b[39m=\u001b[39m\u001b[39m0\u001b[39m\n\u001b[0;32m     11\u001b[0m \u001b[39mfor\u001b[39;00m img_i \u001b[39min\u001b[39;00m \u001b[39mrange\u001b[39m(train_num):\n\u001b[1;32m---> 12\u001b[0m     loss_accu\u001b[39m+\u001b[39m\u001b[39m=\u001b[39msqr_loss(train_img[img_i],train_lab[img_i],parameters)\n\u001b[0;32m     13\u001b[0m \u001b[39mreturn\u001b[39;00m loss_accu\u001b[39m/\u001b[39m(train_num\u001b[39m/\u001b[39m\u001b[39m10000\u001b[39m)\n",
      "Cell \u001b[1;32mIn[42], line 2\u001b[0m, in \u001b[0;36msqr_loss\u001b[1;34m(img, lab, parameters)\u001b[0m\n\u001b[0;32m      1\u001b[0m \u001b[39mdef\u001b[39;00m \u001b[39msqr_loss\u001b[39m(img, lab, parameters):\n\u001b[1;32m----> 2\u001b[0m     y_pred \u001b[39m=\u001b[39m predict(img, parameters)\n\u001b[0;32m      3\u001b[0m     y \u001b[39m=\u001b[39m onehot[lab]\n\u001b[0;32m      4\u001b[0m     diff \u001b[39m=\u001b[39m y \u001b[39m-\u001b[39m y_pred\n",
      "Cell \u001b[1;32mIn[36], line 5\u001b[0m, in \u001b[0;36mpredict\u001b[1;34m(img, parameters)\u001b[0m\n\u001b[0;32m      3\u001b[0m l_out \u001b[39m=\u001b[39m activation[\u001b[39m0\u001b[39m](l_in)\n\u001b[0;32m      4\u001b[0m \u001b[39mfor\u001b[39;00m layer \u001b[39min\u001b[39;00m \u001b[39mrange\u001b[39m(\u001b[39m1\u001b[39m, \u001b[39mlen\u001b[39m(dimensions)):\n\u001b[1;32m----> 5\u001b[0m     l_in \u001b[39m=\u001b[39m np\u001b[39m.\u001b[39;49mdot(l_out,parameters[layer][\u001b[39m'\u001b[39;49m\u001b[39mw\u001b[39;49m\u001b[39m'\u001b[39;49m]) \u001b[39m+\u001b[39m parameters[layer][\u001b[39m'\u001b[39m\u001b[39mb\u001b[39m\u001b[39m'\u001b[39m]\n\u001b[0;32m      6\u001b[0m     l_out \u001b[39m=\u001b[39m activation[layer](l_in)\n\u001b[0;32m      7\u001b[0m \u001b[39mreturn\u001b[39;00m l_out\n",
      "File \u001b[1;32m<__array_function__ internals>:5\u001b[0m, in \u001b[0;36mdot\u001b[1;34m(*args, **kwargs)\u001b[0m\n",
      "\u001b[1;31mKeyboardInterrupt\u001b[0m: "
     ]
    }
   ],
   "source": [
    "rand_batch = np.random.randint(train_num // batch_size) # 随机取一个训练集\n",
    "grad_lr = train_batch(rand_batch, parameters) # 目前的梯度\n",
    "lr_list = []\n",
    "lower = -0.5\n",
    "upper = 0.5\n",
    "step = 0.1\n",
    "progress_bar = ProgressBar(int((upper - lower) / step + 1))\n",
    "for i, lr_pow in enumerate(np.linspace(lower, upper, num = int((upper - lower) / step + 1))):\n",
    "    progress_bar.update(i)\n",
    "    learn_rate = 10 ** lr_pow\n",
    "    parameters_tmp = combine_parameters(parameters, grad_lr, learn_rate)\n",
    "    train_loss_tmp = train_loss(parameters_tmp)\n",
    "    lr_list.append([lr_pow, train_loss_tmp])\n",
    "progress_bar.update(int((upper - lower) / step + 1))"
   ]
  },
  {
   "cell_type": "code",
   "execution_count": null,
   "metadata": {},
   "outputs": [],
   "source": [
    "lr_list"
   ]
  },
  {
   "cell_type": "code",
   "execution_count": 109,
   "metadata": {},
   "outputs": [
    {
     "ename": "IndexError",
     "evalue": "too many indices for array: array is 1-dimensional, but 2 were indexed",
     "output_type": "error",
     "traceback": [
      "\u001b[1;31m---------------------------------------------------------------------------\u001b[0m",
      "\u001b[1;31mIndexError\u001b[0m                                Traceback (most recent call last)",
      "Cell \u001b[1;32mIn[109], line 2\u001b[0m\n\u001b[0;32m      1\u001b[0m upper\u001b[39m=\u001b[39m\u001b[39mlen\u001b[39m(lr_list) \u001b[39m# 寻找学习率最合适的点(谷底也就是训练损失最低的点)\u001b[39;00m\n\u001b[1;32m----> 2\u001b[0m plt\u001b[39m.\u001b[39mplot(np\u001b[39m.\u001b[39;49marray(lr_list)[:upper, \u001b[39m0\u001b[39;49m], np\u001b[39m.\u001b[39marray(lr_list)[:upper,\u001b[39m1\u001b[39m], color\u001b[39m=\u001b[39m\u001b[39m'\u001b[39m\u001b[39mblack\u001b[39m\u001b[39m'\u001b[39m)\n\u001b[0;32m      3\u001b[0m plt\u001b[39m.\u001b[39mshow()\n",
      "\u001b[1;31mIndexError\u001b[0m: too many indices for array: array is 1-dimensional, but 2 were indexed"
     ]
    }
   ],
   "source": [
    "upper=len(lr_list) # 寻找学习率最合适的点(谷底也就是训练损失最低的点)\n",
    "plt.plot(np.array(lr_list)[:upper, 0], np.array(lr_list)[:upper,1], color='black')\n",
    "plt.show()"
   ]
  },
  {
   "cell_type": "code",
   "execution_count": 114,
   "metadata": {},
   "outputs": [
    {
     "name": "stdout",
     "output_type": "stream",
     "text": [
      "(100,)\n",
      "(784, 100)\n",
      "(10,)\n",
      "(100, 10)\n"
     ]
    }
   ],
   "source": [
    "print(parameters[1]['b'].shape)\n",
    "print(parameters[1]['w'].shape)\n",
    "print(parameters[2]['b'].shape)\n",
    "print(parameters[2]['w'].shape)\n",
    "np.savetxt('p_1_b.txt', parameters[1]['b'], fmt = \"%.5f\")\n",
    "np.savetxt('p_1_w.txt', parameters[1]['w'], fmt = \"%.5f\")\n",
    "np.savetxt('p_2_b.txt', parameters[2]['b'], fmt = \"%.5f\")\n",
    "np.savetxt('p_2_w.txt', parameters[2]['w'], fmt = \"%.5f\")"
   ]
  },
  {
   "cell_type": "code",
   "execution_count": 111,
   "metadata": {},
   "outputs": [],
   "source": [
    "parameters_save = init_parameters()"
   ]
  },
  {
   "cell_type": "code",
   "execution_count": 115,
   "metadata": {},
   "outputs": [],
   "source": [
    "b1 = np.loadtxt('./p_1_b.txt', dtype=np.float32).reshape(100,)\n",
    "w1 = np.loadtxt('./p_1_w.txt', dtype=np.float32).reshape(784, 100)\n",
    "b2 = np.loadtxt('./p_2_b.txt', dtype=np.float32).reshape(10,)\n",
    "w2 = np.loadtxt('./p_2_w.txt', dtype=np.float32).reshape(100, 10)\n",
    "\n",
    "parameters_save = {\n",
    "    1: {'b': b1, 'w': w1},\n",
    "    2: {'b': b2, 'w': w2}\n",
    "}"
   ]
  },
  {
   "cell_type": "code",
   "execution_count": 116,
   "metadata": {},
   "outputs": [
    {
     "name": "stdout",
     "output_type": "stream",
     "text": [
      "0.9328\n"
     ]
    }
   ],
   "source": [
    "print(test_accuracy(parameters_save))"
   ]
  }
 ],
 "metadata": {
  "kernelspec": {
   "display_name": "Python 3 (ipykernel)",
   "language": "python",
   "name": "python3"
  },
  "language_info": {
   "codemirror_mode": {
    "name": "ipython",
    "version": 3
   },
   "file_extension": ".py",
   "mimetype": "text/x-python",
   "name": "python",
   "nbconvert_exporter": "python",
   "pygments_lexer": "ipython3",
   "version": "3.8.0"
  }
 },
 "nbformat": 4,
 "nbformat_minor": 2
}
