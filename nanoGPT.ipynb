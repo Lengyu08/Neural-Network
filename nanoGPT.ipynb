{
 "cells": [
  {
   "cell_type": "markdown",
   "metadata": {},
   "source": [
    "初始化"
   ]
  },
  {
   "cell_type": "code",
   "execution_count": 1,
   "metadata": {},
   "outputs": [],
   "source": [
    "import torch\n",
    "\n",
    "# 读取西游记全文\n",
    "with open(\"./data/Chinese/The Journey to the West.txt\", \"r\", encoding=\"utf-8\") as f:\n",
    "        text = f.read()\n",
    "    # print(\"西游记全文的长度为 : \" + str(len(text)) + '\\n' + \"西游记的类型是 : \" + str(type(text)))\n",
    "\n",
    "    # 生成字符集 ( 文本中出现的所有字符 )\n",
    "    # chars = sorted(list(set(text)))\n",
    "    # print(len(chars))\n",
    "\n",
    "# 选取训练集\n",
    "n = int(0.5 * len(text))        # 取 50% 的数量\n",
    "text = text[:n]                 # 重新映射文本\n",
    "chars = sorted(list(set(text))) # 重新映射字符集\n",
    "\n",
    "# 对字符进行编码\n",
    "stoi = { ch:i for i,ch in enumerate(chars) }        # 创建一个字符到整数的哈希表\n",
    "itos = { i:ch for i,ch in enumerate(chars) }        # 创建一个整数到字符的哈希表\n",
    "\n",
    "encode = lambda s: [stoi[c] for c in s]             # 这是编码器, 用于将编码器编码成整数的向量\n",
    "decode = lambda l: ''.join([itos[i] for i in l])    # 这是解码器, 用于将整数向量解码回原来的文字\n",
    "\n",
    "# print(encode(\"西游记\"))         # 测试编码器\n",
    "# print(decode(encode(\"西游记\"))) # 测试解码器\n",
    "\n",
    "# 将文本编码成整数向量, 指定设备, 用于训练\n",
    "data = encode(text)\n",
    "device = torch.device(\"cuda\" if torch.cuda.is_available() else \"cpu\")  "
   ]
  },
  {
   "cell_type": "markdown",
   "metadata": {},
   "source": [
    "参数设置"
   ]
  },
  {
   "cell_type": "code",
   "execution_count": null,
   "metadata": {},
   "outputs": [],
   "source": []
  }
 ],
 "metadata": {
  "kernelspec": {
   "display_name": "py38",
   "language": "python",
   "name": "python3"
  },
  "language_info": {
   "codemirror_mode": {
    "name": "ipython",
    "version": 3
   },
   "file_extension": ".py",
   "mimetype": "text/x-python",
   "name": "python",
   "nbconvert_exporter": "python",
   "pygments_lexer": "ipython3",
   "version": "3.8.20"
  }
 },
 "nbformat": 4,
 "nbformat_minor": 2
}
