{
 "cells": [
  {
   "cell_type": "code",
   "execution_count": 91,
   "metadata": {},
   "outputs": [],
   "source": [
    "import copy\n",
    "import math\n",
    "import time\n",
    "import struct\n",
    "\n",
    "import numpy as np                  # 矩阵\n",
    "import matplotlib.pyplot as plt     # 绘图\n",
    "\n",
    "from numba import njit              # 加速 cpu\n",
    "from numba import cuda              # 加速 gpu(cuda)\n",
    "from pathlib import Path            # 处理路径\n",
    "\n",
    "from Activation import Activation\n",
    "from ProgressBar import ProgressBar \n",
    "\n",
    "def tanh(x):\n",
    "    return np.tanh(x)\n",
    "\n",
    "def softmax(x):\n",
    "    exp = np.exp(x - x.max())\n",
    "    return exp / exp.sum()\n",
    "\n",
    "def d_tanh(data):\n",
    "    # d_tanh([1, 2, 3, 4])\n",
    "    # return np.diag(1 / (np.cosh(data) ** 2))\n",
    "    return 1 / (np.cosh(data) ** 2)\n",
    "\n",
    "def d_softmax(data):\n",
    "    sm = softmax(data)\n",
    "    # 单元对角矩阵 - 行列向量扩充\n",
    "    # d_softmax(np.array([1, 2, 3, 4]))\n",
    "    return np.diag(sm) - np.outer(sm, sm)\n",
    "\n",
    "# 验证 d_softmax\n",
    "# h = 0.000001 # 逐渐增大或者减小验证收敛性\n",
    "# input_len = 4\n",
    "# for i in range(input_len):\n",
    "#     test_input = np.random.rand(input_len)\n",
    "#     dervative = d_softmax(test_input)\n",
    "#     value_1 = softmax(test_input)\n",
    "#     test_input[i] += h\n",
    "#     value_2 = softmax(test_input)\n",
    "#     # print((value_2 - value_1) / h) # 求导公式\n",
    "#     # print(dervative[i]) # 推出来的公式\n",
    "#     print(dervative[i] - ((value_2 - value_1) / h))\n",
    "\n",
    "# # 验证 d_tanh\n",
    "# h = 0.00001\n",
    "# input_len = 4\n",
    "# for i in range(input_len):\n",
    "#     test_input = np.random.rand(input_len)\n",
    "#     dervative = d_tanh(test_input)\n",
    "#     value_1 = tanh(test_input)\n",
    "#     test_input[i] += h\n",
    "#     value_2 = tanh(test_input)\n",
    "#     # print((value_2 - value_1) / h) # 求导公式\n",
    "#     # print(dervative[i]) # 推出来的公式\n",
    "#     print(dervative[i] - ((value_2 - value_1) / h))\n",
    "\n",
    "def init_paramters_b(layer): # layer 输入层数\n",
    "    dist = distribution[layer]['b']\n",
    "    # 数组的大小是dimensions[layer] = [28 * 28, 10]\n",
    "    # 等价于 randdouble(0, 1) * (r - l) + l\n",
    "    res = np.random.rand(dimensions[layer]) * (dist[1] - dist[0]) + dist[0]\n",
    "    # print(\"深度:\" + str(layer) + \"初始化 b: \" + str(res))\n",
    "    return res\n",
    "\n",
    "def init_paramters_w(layer):\n",
    "    dist = distribution[layer]['w']\n",
    "    # print(\"深度:\" + str(layer) + \"初始化 w 数组大小\" + str(dimensions[layer - 1]) + \" * \" + str(dimensions[layer]))\n",
    "    # 返回二维的随机数组\n",
    "    return np.random.rand(dimensions[layer - 1], dimensions[layer]) * (dist[1] - dist[0]) + dist[0]\n",
    "\n",
    "def init_paraments():\n",
    "    parameter = []\n",
    "    for i in range(len(distribution)):\n",
    "        layer_parameter = {}\n",
    "        for j in distribution[i].keys():\n",
    "            if (j == 'b'):\n",
    "                layer_parameter['b'] = init_paramters_b(i)\n",
    "            elif (j == 'w'):\n",
    "                layer_parameter['w'] = init_paramters_w(i)\n",
    "        parameter.append(layer_parameter)\n",
    "    return parameter\n",
    "\n",
    "# 计算矩阵\n",
    "def predict(img, parameters):\n",
    "    l_0_in = img + parameters[0]['b']\n",
    "    l_0_out = activation[0](l_0_in)\n",
    "    l_1_in = np.dot(l_0_out, parameters[1]['w']) + parameters[1]['b']\n",
    "    l_1_out = activation[1](l_1_in)\n",
    "    return l_1_out\n",
    "\n",
    "# 损失函数\n",
    "def sqr_loss(img, lab, parameters):\n",
    "    y_pred = predict(img, parameters)\n",
    "    y = one_hot[lab];\n",
    "    diff = y - y_pred\n",
    "    return np.dot(diff, diff) # 公式相等\n",
    "\n",
    "# 求梯度\n",
    "def grad_parameters(img, lab, parameters):\n",
    "    l_0_in = img + parameters[0]['b']\n",
    "    l_0_out = activation[0](l_0_in)\n",
    "    l_1_in = np.dot(l_0_out, parameters[1]['w']) + parameters[1]['b']\n",
    "    l_1_out = activation[1](l_1_in)\n",
    "\n",
    "    diff = one_hot[lab] - l_1_out;\n",
    "    act_1 = np.dot(d_softmax(l_1_in), diff)\n",
    "    \n",
    "    # 把 tanh 的对角矩阵拆分优化\n",
    "    grad_b_0 = -2 * d_tanh(l_0_in) * np.dot(parameters[1]['w'], act_1)\n",
    "    grad_b_1 = -2 * act_1\n",
    "    grad_w_1 = -2 * np.outer(l_0_out, act_1)\n",
    "    # print(l_0_out)\n",
    "    return {'b0': grad_b_0, 'b1': grad_b_1, 'w1': grad_w_1}\n",
    "\n",
    "def show_train(index):\n",
    "    print(\"lab:\", end = ' '), print(train_lab[index])\n",
    "    plt.imshow(train_img[index].reshape(28, 28), cmap = 'gray')\n",
    "    plt.show()\n",
    "\n",
    "def show_valid(index):\n",
    "    print(\"lab:\", end=' '), print(valid_lab[index])\n",
    "    plt.imshow(valid_img[index].reshape(28, 28), cmap='gray')\n",
    "    plt.show()\n",
    "\n",
    "def show_test(index):\n",
    "    print(\"lab:\", end = ' '), print(test_lab[index])\n",
    "    plt.imshow(test_img[index].reshape(28, 28), cmap = 'gray')\n",
    "    plt.show()\n",
    "\n",
    "\n",
    "# 验证测试集\n",
    "def valid_loss(parameters):\n",
    "    loss_accu = 0 # 偏差值的累加\n",
    "    for img_i in range(valid_num): # 测试集的数量 10000\n",
    "        loss_accu += sqr_loss(valid_img[img_i], valid_lab[img_i], parameters)\n",
    "    return loss_accu / (valid_num / 10000)\n",
    "\n",
    "# valid 集合的验证 求 valid 集合的准确率\n",
    "def valid_accuracy(parameters):\n",
    "    correct = [predict(valid_img[img_i], parameters).argmax() == valid_lab[img_i] for img_i in range(valid_num)]\n",
    "    # print(\"validation accuracy: {}\".format(correct.count(True) / len(correct)))\n",
    "    return correct.count(True) / len(correct)\n",
    "\n",
    "def train_loss(parameters):\n",
    "    loss_accu=0\n",
    "    for img_i in range(train_num):\n",
    "        loss_accu += sqr_loss(train_img[img_i],train_lab[img_i],parameters)\n",
    "    return loss_accu / (train_num / 10000)\n",
    "\n",
    "def train_accuracy(parameters):\n",
    "    correct = [predict(train_img[img_i],parameters).argmax()==train_lab[img_i] for img_i in range(train_num)]\n",
    "    return correct.count(True) / len(correct)\n",
    "\n",
    "def test_accuracy(parameters):\n",
    "    correct = [predict(test_img[img_i], parameters).argmax() == test_lab[img_i] for img_i in range(test_num)]\n",
    "    # print(\"validation accuracy: {}\".format(correct.count(True) / len(correct)))\n",
    "    return correct.count(True) / len(correct)\n",
    "\n",
    "# 分组训练减少时间\n",
    "def train_batch(current_batch, parameters):\n",
    "    # 集合梯度初始化\n",
    "    grad_accu = grad_parameters(train_img[current_batch * batch_size + 0], train_lab[current_batch * batch_size + 0], parameters)\n",
    "    for img_i in range(1, batch_size):\n",
    "        grad_tmp = grad_parameters(train_img[current_batch*batch_size + img_i], train_lab[current_batch * batch_size + img_i], parameters)\n",
    "        for key in grad_accu.keys():\n",
    "            grad_accu[key] += grad_tmp[key] # += b0 b1 w1 ......\n",
    "    for key in grad_accu.keys(): # 做平均\n",
    "        grad_accu[key] /= batch_size\n",
    "    return grad_accu\n",
    "\n",
    "# 梯度下降\n",
    "def combine_parameters(parameters, grad, learn_rate):\n",
    "    parameter_tmp = copy.deepcopy(parameters)\n",
    "    parameter_tmp[0]['b'] -= learn_rate * grad['b0']\n",
    "    parameter_tmp[1]['b'] -= learn_rate * grad['b1']\n",
    "    parameter_tmp[1]['w'] -= learn_rate * grad['w1']\n",
    "    return parameter_tmp\n"
   ]
  },
  {
   "cell_type": "code",
   "execution_count": 92,
   "metadata": {},
   "outputs": [
    {
     "name": "stdout",
     "output_type": "stream",
     "text": [
      "(10000, 784)\n"
     ]
    }
   ],
   "source": [
    "dimensions = [28 * 28, 10] # 存储两个数据 输入数量 m 和 输出数量 n\n",
    "activation = [tanh, softmax]\n",
    "\n",
    "distribution = [ # 列表套字典\n",
    "    {'b' : [0, 0]}, # 第一层的偏置函数和第二层的偏置函数推荐设置为 0\n",
    "    {'b' : [0, 0], 'w': [-math.sqrt(6 / (dimensions[0] + dimensions[1])), math.sqrt(6 / (dimensions[0] + dimensions[1]))]}, # 假设只有两层 784 -> 10\n",
    "]\n",
    "# 初始化\n",
    "parameters = init_paraments()\n",
    "differential = {softmax:d_softmax,tanh:d_tanh}\n",
    "# 测试正确性\n",
    "# print(predict(np.random.rand(784), parameters))\n",
    "\n",
    "# 读入测试集\n",
    "dataset_path = Path('./MNIST')\n",
    "train_img_path = dataset_path / 'train-images.idx3-ubyte'\n",
    "train_lab_path = dataset_path / 'train-labels.idx1-ubyte'\n",
    "test_img_path = dataset_path / 't10k-images.idx3-ubyte'\n",
    "test_lab_path = dataset_path / 't10k-labels.idx1-ubyte'\n",
    "\n",
    "train_num = 50000 # 同时给问题和答案 # 过拟合\n",
    "valid_num = 10000 # 给问题不给答案 # 永远不能看见 # 测验 # 自己可以调整\n",
    "test_num = 10000 # 只能看到结果的数据\n",
    "\n",
    "with open(train_img_path, \"rb\") as f:\n",
    "    struct.unpack('>4i', f.read(16))\n",
    "    # train_img = np.fromfile(f, dtype = np.uint8).reshape(-1, 28 * 28)\n",
    "    tmp_img = np.fromfile(f, dtype = np.uint8).reshape(-1, 28 * 28) / 255 # 防止二值化 / 255 -> 灰度最大值\n",
    "    train_img = tmp_img[:train_num]\n",
    "    valid_img = tmp_img[train_num:]\n",
    "\n",
    "with open(test_img_path, \"rb\") as f:\n",
    "    struct.unpack('>4i', f.read(16))\n",
    "    test_img = np.fromfile(f, dtype = np.uint8).reshape(-1, 28 * 28) / 255\n",
    "\n",
    "with open(train_lab_path, \"rb\") as f:\n",
    "    struct.unpack('>2i', f.read(8))\n",
    "    # train_lab = np.fromfile(f, dtype = np.uint8)\n",
    "    tmp_lab = np.fromfile(f, dtype = np.uint8)\n",
    "    train_lab = tmp_lab[:train_num]\n",
    "    valid_lab = tmp_lab[train_num:]\n",
    "\n",
    "with open(test_lab_path, \"rb\") as f:\n",
    "    struct.unpack('>2i', f.read(8))\n",
    "    test_lab = np.fromfile(f, dtype = np.uint8)\n",
    "print(test_img.shape)"
   ]
  },
  {
   "cell_type": "code",
   "execution_count": 93,
   "metadata": {},
   "outputs": [],
   "source": [
    "# show_train(np.random.randint(train_num))\n",
    "# show_valid(np.random.randint(valid_num))\n",
    "# show_test(np.random.randint(test_num))\n",
    "\n",
    "one_hot = np.identity(dimensions[-1]) # 10 * 10 的单位矩阵(对角线都是 1) # python 中 -1 会回环\n",
    "\n",
    "# print(sqr_loss(train_img[0], train_lab[0], parameters))\n",
    "# print(grad_parameters(train_img[2],train_lab[2],parameters))\n",
    "\n",
    "# # 验证 b1\n",
    "# h = 0.00001\n",
    "# for i in range(10):\n",
    "#     img_i = np.random.randint(50000)\n",
    "#     test_parameters = init_paraments()\n",
    "#     derivative = grad_parameters(train_img[img_i], train_lab[img_i], test_parameters)['b1']\n",
    "#     value1 = sqr_loss(train_img[img_i], train_lab[img_i], test_parameters)\n",
    "#     test_parameters[1]['b'][i] += h\n",
    "#     value2 = sqr_loss(train_img[img_i], train_lab[img_i], test_parameters)\n",
    "#     print(derivative[i] - ((value2 - value1) / h))\n",
    "\n",
    "# 验证 w1\n",
    "# grad_list = []\n",
    "# h = 0.00001\n",
    "# for i in range(784):\n",
    "#     for j in range(10):\n",
    "#         img_i=np.random.randint(train_num)\n",
    "#         test_parameters = parameters\n",
    "#         derivative=grad_parameters(train_img[img_i],train_lab[img_i],test_parameters)['w1']\n",
    "#         value1=sqr_loss(train_img[img_i],train_lab[img_i],test_parameters)\n",
    "#         test_parameters[1]['w'][i][j] += h\n",
    "#         value2=sqr_loss(train_img[img_i],train_lab[img_i],test_parameters)\n",
    "#         grad_list.append(derivative[i][j] - (value2 - value1) / h)\n",
    "# print(np.abs(grad_list).max())\n",
    "\n",
    "# # 验证b0\n",
    "# grad_list = []\n",
    "# h = 0.01\n",
    "# for i in range(784):\n",
    "#     img_i=np.random.randint(train_num)\n",
    "#     test_parameters = parameters\n",
    "#     derivative=grad_parameters(train_img[img_i],train_lab[img_i],test_parameters)['b0']\n",
    "#     value1=sqr_loss(train_img[img_i],train_lab[img_i],test_parameters)\n",
    "#     test_parameters[0]['b'][i] += h\n",
    "#     value2=sqr_loss(train_img[img_i],train_lab[img_i],test_parameters)\n",
    "#     grad_list.append(derivative[i] - (value2 - value1) / h)\n",
    "# print(np.abs(grad_list).max())\n",
    "# print(valid_loss(parameters))\n",
    "# print(valid_accuracy(parameters))\n",
    "\n",
    "batch_size = 100 # 100 组\n",
    "current_epoch = 0\n",
    "train_loss_list = []\n",
    "valid_loss_list = []\n",
    "train_accu_list = []\n",
    "valid_accu_list = []"
   ]
  },
  {
   "cell_type": "code",
   "execution_count": 103,
   "metadata": {},
   "outputs": [
    {
     "name": "stdout",
     "output_type": "stream",
     "text": [
      "训练集的正确率: 0.92520\n",
      "测试集的正确率: 0.92740\n",
      "[████████████████████████████████████████████████████████████] 100.0% \u001b[32mComplete\u001b[0m\n",
      "训练集的正确率: 0.92890\n",
      "测试集的正确率: 0.93170\n"
     ]
    }
   ],
   "source": [
    "\n",
    "print(\"训练集的正确率: {:.5f}\".format(test_accuracy(parameters))) # 训练之后的正确率\n",
    "print(\"测试集的正确率: {:.5f}\".format(valid_accuracy(parameters))) # 训练之后的正确率\n",
    "# 训练\n",
    "epoch_num = 5 \n",
    "# 进度条\n",
    "total_steps = train_num // batch_size * epoch_num\n",
    "progress_bar = ProgressBar(total_steps)\n",
    "\n",
    "# 开始训练\n",
    "for epoch in range(epoch_num):\n",
    "    for i in range(train_num // batch_size):\n",
    "        # if (i % 100 == 99):\n",
    "        #     print(\"runing batch {} / {}\".format(i + 1, train_num // batch_size))\n",
    "        progress_bar.update(epoch * (train_num // batch_size) + i + 1)\n",
    "        grad_tmp = train_batch(i, parameters) # 求现在的梯度\n",
    "        parameters = combine_parameters(parameters, grad_tmp, 0.5) # 如果发现损失函数上下波动说明学习率高了\n",
    "    current_epoch += 1\n",
    "    train_loss_list.append(train_loss(parameters))\n",
    "    train_accu_list.append(train_accuracy(parameters))\n",
    "    valid_loss_list.append(valid_loss(parameters))\n",
    "    valid_accu_list.append(valid_accuracy(parameters))\n",
    "print(\"\")\n",
    "print(\"训练集的正确率: {:.5f}\".format(test_accuracy(parameters))) # 训练之后的正确率\n",
    "print(\"测试集的正确率: {:.5f}\".format(valid_accuracy(parameters))) # 训练之后的正确率"
   ]
  },
  {
   "cell_type": "code",
   "execution_count": 106,
   "metadata": {},
   "outputs": [
    {
     "data": {
      "image/png": "[encoded data removed]",
      "text/plain": [
       "<Figure size 640x480 with 1 Axes>"
      ]
     },
     "metadata": {},
     "output_type": "display_data"
    },
    {
     "name": "stdout",
     "output_type": "stream",
     "text": [
      "训练集的正确率: 0.92890\n",
      "测试集的正确率: 0.93170\n"
     ]
    }
   ],
   "source": [
    "lower = -30\n",
    "plt.plot(valid_loss_list[lower:], color = 'black', label = 'validation loss') # 黑色大于红色太多说明出现过拟合\n",
    "plt.plot(train_loss_list[lower:], color = 'red', label = 'train loss')\n",
    "plt.show()"
   ]
  },
  {
   "cell_type": "code",
   "execution_count": 105,
   "metadata": {},
   "outputs": [
    {
     "data": {
      "image/png": "[encoded data removed]",
      "text/plain": [
       "<Figure size 640x480 with 1 Axes>"
      ]
     },
     "metadata": {},
     "output_type": "display_data"
    }
   ],
   "source": [
    "plt.plot(valid_accu_list[lower:], color = 'black', label = 'validation accuracy')\n",
    "plt.plot(train_accu_list[lower:], color = 'red', label = 'train accuracy')\n",
    "plt.show()"
   ]
  },
  {
   "cell_type": "code",
   "execution_count": 109,
   "metadata": {},
   "outputs": [
    {
     "name": "stdout",
     "output_type": "stream",
     "text": [
      "[██████████████████████████████████████████████████████      ] 90.9% \u001b[31mProgress\u001b[0m"
     ]
    }
   ],
   "source": [
    "rand_batch = np.random.randint(train_num // batch_size) # 随机取一个训练集\n",
    "grad_lr = train_batch(rand_batch, parameters) # 目前的梯度\n",
    "lr_list = []\n",
    "lower = -0.5\n",
    "upper = 0.5\n",
    "step = 0.1\n",
    "progress_bar = ProgressBar(int((upper - lower) / step + 1))\n",
    "for i, lr_pow in enumerate(np.linspace(lower, upper, num = int((upper - lower) / step + 1))):\n",
    "    progress_bar.update(i)\n",
    "    learn_rate = 10 ** lr_pow\n",
    "    parameters_tmp = combine_parameters(parameters, grad_lr, learn_rate)\n",
    "    train_loss_tmp = train_loss(parameters_tmp)\n",
    "    lr_list.append([lr_pow, train_loss_tmp])\n",
    "progress_bar.update(int((upper - lower) / step + 1))\n"
   ]
  },
  {
   "cell_type": "code",
   "execution_count": 110,
   "metadata": {},
   "outputs": [
    {
     "data": {
      "text/plain": [
       "[[-0.5, 1090.1709804719926],\n",
       " [-0.4, 1089.990664731177],\n",
       " [-0.3, 1089.7853473830708],\n",
       " [-0.19999999999999996, 1089.561248382143],\n",
       " [-0.09999999999999998, 1089.3336347687668],\n",
       " [0.0, 1089.1335296849643],\n",
       " [0.10000000000000009, 1089.018736035097],\n",
       " [0.20000000000000007, 1089.09183215663],\n",
       " [0.30000000000000004, 1089.529429163839],\n",
       " [0.4, 1090.62963995002],\n",
       " [0.5, 1092.889078227306]]"
      ]
     },
     "execution_count": 110,
     "metadata": {},
     "output_type": "execute_result"
    }
   ],
   "source": [
    "lr_list"
   ]
  },
  {
   "cell_type": "code",
   "execution_count": 111,
   "metadata": {},
   "outputs": [
    {
     "data": {
      "image/png": "[encoded data removed]",
      "text/plain": [
       "<Figure size 640x480 with 1 Axes>"
      ]
     },
     "metadata": {},
     "output_type": "display_data"
    }
   ],
   "source": [
    "upper=len(lr_list) # 寻找学习率最合适的点(谷底也就是训练损失最低的点)\n",
    "plt.plot(np.array(lr_list)[:upper, 0], np.array(lr_list)[:upper,1], color='black')\n",
    "plt.show()"
   ]
  },
  {
   "cell_type": "code",
   "execution_count": 102,
   "metadata": {},
   "outputs": [
    {
     "name": "stdout",
     "output_type": "stream",
     "text": [
      "0.9252\n"
     ]
    }
   ],
   "source": []
  }
 ],
 "metadata": {
  "kernelspec": {
   "display_name": "py38",
   "language": "python",
   "name": "python3"
  },
  "language_info": {
   "codemirror_mode": {
    "name": "ipython",
    "version": 3
   },
   "file_extension": ".py",
   "mimetype": "text/x-python",
   "name": "python",
   "nbconvert_exporter": "python",
   "pygments_lexer": "ipython3",
   "version": "3.8.0"
  },
  "orig_nbformat": 4
 },
 "nbformat": 4,
 "nbformat_minor": 2
}
